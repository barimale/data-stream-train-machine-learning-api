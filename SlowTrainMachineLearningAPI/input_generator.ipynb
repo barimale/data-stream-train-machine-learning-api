!pip install pandas scikit-learn

# Import libraries
import pandas as pd
from sklearn.model_selection import train_test_split

# Sample data
data = {
    'feature1': [1, 2, 3, 4, 5],
    'feature2': [10, 20, 30, 40, 50],
    'target': [0, 1, 0, 1, 0]
}
df = pd.DataFrame(data)

# Split the data
X = df[['feature1', 'feature2']]  # Features
y = df['target']  # Target variable

X_train, X_test, y_train, y_test = train_test_split(X, y, test_size=0.2, random_state=42)

print("Training Features:\n", X_train)
print("Testing Features:\n", X_test)
print("Training Labels:\n", y_train)
print("Testing Labels:\n", y_test)